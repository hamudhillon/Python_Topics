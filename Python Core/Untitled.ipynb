{
 "cells": [
  {
   "cell_type": "code",
   "execution_count": 42,
   "id": "91cabb4f",
   "metadata": {},
   "outputs": [
    {
     "data": {
      "text/plain": [
       "'H'"
      ]
     },
     "execution_count": 42,
     "metadata": {},
     "output_type": "execute_result"
    }
   ],
   "source": [
    "a='Hello world'\n",
    "a[0]"
   ]
  },
  {
   "cell_type": "code",
   "execution_count": 28,
   "id": "54f36186",
   "metadata": {},
   "outputs": [
    {
     "data": {
      "text/plain": [
       "'olleH'"
      ]
     },
     "execution_count": 28,
     "metadata": {},
     "output_type": "execute_result"
    }
   ],
   "source": [
    "a[::-1]"
   ]
  },
  {
   "cell_type": "code",
   "execution_count": 58,
   "id": "8056ae57",
   "metadata": {},
   "outputs": [
    {
     "data": {
      "text/plain": [
       "False"
      ]
     },
     "execution_count": 58,
     "metadata": {},
     "output_type": "execute_result"
    }
   ],
   "source": [
    "# Function\n",
    "a.upper()\n",
    "a.lower()\n",
    "a.title()\n",
    "a.capitalize()\n",
    "a.replace('H','T')\n",
    "a.replace('O','d')\n",
    "a.split('l')\n",
    "a.find('p')\n",
    "a.count('Hello')\n",
    "a.isupper()\n",
    "a.islower()"
   ]
  },
  {
   "cell_type": "code",
   "execution_count": 112,
   "id": "f5071d95",
   "metadata": {},
   "outputs": [
    {
     "data": {
      "text/plain": [
       "[77, 2, 1, 3, 2, 3]"
      ]
     },
     "execution_count": 112,
     "metadata": {},
     "output_type": "execute_result"
    }
   ],
   "source": [
    "# LIST, Tuple, set, Dict \n",
    "data=[3,2,3,1,2,77]\n",
    "data[::-1]"
   ]
  },
  {
   "cell_type": "code",
   "execution_count": 114,
   "id": "bb66d28c",
   "metadata": {},
   "outputs": [
    {
     "data": {
      "text/plain": [
       "[99, 3, 3, 2, 2, 1]"
      ]
     },
     "execution_count": 114,
     "metadata": {},
     "output_type": "execute_result"
    }
   ],
   "source": [
    "# Function\n",
    "# data.append('a')\n",
    "# print(data.remove(3))\n",
    "# data.insert(2,'b')\n",
    "# print(data.pop(5))\n",
    "data.sort()\n",
    "data.reverse()\n",
    "data[0]=99\n",
    "# data.clear()\n",
    "data"
   ]
  },
  {
   "cell_type": "code",
   "execution_count": 126,
   "id": "198df415",
   "metadata": {},
   "outputs": [
    {
     "data": {
      "text/plain": [
       "(99, 5, 7, 8, 3, 3)"
      ]
     },
     "execution_count": 126,
     "metadata": {},
     "output_type": "execute_result"
    }
   ],
   "source": [
    "# Tuple \n",
    "data=(1,5,7,8,3,3)\n",
    "# data[0]=99\n",
    "# data.append(6)\n",
    "len(data)\n",
    "data=list(data)\n",
    "data[0]=99\n",
    "data=tuple(data)\n",
    "data"
   ]
  },
  {
   "cell_type": "code",
   "execution_count": 181,
   "id": "56e6991a",
   "metadata": {},
   "outputs": [
    {
     "data": {
      "text/plain": [
       "1"
      ]
     },
     "execution_count": 181,
     "metadata": {},
     "output_type": "execute_result"
    }
   ],
   "source": [
    "# set\n",
    "data={1,99,6,4,53,2,'a'}\n",
    "# data[0]=88\n",
    "# data.add(77)\n",
    "data.update({'HHHH','aklsdjklas','sad'})\n",
    "# data.remove(99)\n",
    "# data.discard(2)\n",
    "data.pop()\n",
    "# data"
   ]
  },
  {
   "cell_type": "code",
   "execution_count": 223,
   "id": "935df8e6",
   "metadata": {},
   "outputs": [
    {
     "data": {
      "text/plain": [
       "{}"
      ]
     },
     "execution_count": 223,
     "metadata": {},
     "output_type": "execute_result"
    }
   ],
   "source": [
    "# Dict\n",
    "data={\n",
    "    200:'dsaknd',\n",
    "    'name':'Harman',\n",
    "    \"age\":99,\n",
    "    'Phone':456789\n",
    "}\n",
    "# data['age']=66\n",
    "# data.update({'address':'mohali'})\n",
    "# print(data.pop('age'))\n",
    "# print(data.popitem())\n",
    "data.keys()\n",
    "data.values()\n",
    "data.items()\n",
    "data.get('name')\n",
    "data.clear()\n",
    "data"
   ]
  },
  {
   "cell_type": "code",
   "execution_count": 21,
   "id": "366bf767",
   "metadata": {
    "scrolled": true
   },
   "outputs": [
    {
     "name": "stdout",
     "output_type": "stream",
     "text": [
      "Enter a Number 8\n",
      "a is not zero\n",
      "a is not zero\n"
     ]
    }
   ],
   "source": [
    "# Conditions\n",
    "# Flow Control\n",
    "a=int(input('Enter a Number '))\n",
    "county=input('Enter a Country')\n",
    "# if(a==0){ #scope\n",
    "#     printf('a is zero')\n",
    "# }\n",
    "\n",
    "if a==0:\n",
    "    if a==1:\n",
    "        print('a is nor zero')\n",
    "    print('a is zero')\n",
    "elif a==1:\n",
    "    print('a is one')\n",
    "elif(a>10 and a<20):\n",
    "                   print('a is between 10-20')\n",
    "else:\n",
    "     print('a is not zero')\n",
    "     print('a is not zero')\n"
   ]
  },
  {
   "cell_type": "code",
   "execution_count": 3,
   "id": "939dd8a2",
   "metadata": {},
   "outputs": [],
   "source": [
    "# q1 odd or even\n",
    "# q2 check vowels in string take a string \n",
    "#\n",
    "# Nested condition\n",
    "# q3 take 3 values Country,Age,gender and give output as eligible for vote or not\n",
    "#  conditions1 -> country india for male age 18+ for female age 18+\n",
    "#  conditions2 -> country south africa male age 18+ for female age 21+\n",
    "#  condition3 -> country North korea male age 18+ and female are not allowed"
   ]
  },
  {
   "cell_type": "code",
   "execution_count": 59,
   "id": "c1d7ec63",
   "metadata": {},
   "outputs": [
    {
     "ename": "ValueError",
     "evalue": "too many values to unpack (expected 2)",
     "output_type": "error",
     "traceback": [
      "\u001b[1;31m---------------------------------------------------------------------------\u001b[0m",
      "\u001b[1;31mValueError\u001b[0m                                Traceback (most recent call last)",
      "\u001b[1;32m~\\AppData\\Local\\Temp\\ipykernel_30260\\14565761.py\u001b[0m in \u001b[0;36m<module>\u001b[1;34m\u001b[0m\n\u001b[0;32m     51\u001b[0m \u001b[0mdata\u001b[0m\u001b[1;33m=\u001b[0m\u001b[1;33m{\u001b[0m\u001b[1;34m'num'\u001b[0m\u001b[1;33m:\u001b[0m\u001b[1;33m[\u001b[0m\u001b[1;36m1\u001b[0m\u001b[1;33m,\u001b[0m\u001b[1;36m3\u001b[0m\u001b[1;33m,\u001b[0m\u001b[1;36m4\u001b[0m\u001b[1;33m,\u001b[0m\u001b[1;36m2\u001b[0m\u001b[1;33m]\u001b[0m\u001b[1;33m,\u001b[0m\u001b[1;34m'chars'\u001b[0m\u001b[1;33m:\u001b[0m\u001b[1;33m(\u001b[0m\u001b[1;34m'a'\u001b[0m\u001b[1;33m,\u001b[0m\u001b[1;34m'b'\u001b[0m\u001b[1;33m,\u001b[0m\u001b[1;34m'c'\u001b[0m\u001b[1;33m,\u001b[0m\u001b[1;34m'd'\u001b[0m\u001b[1;33m)\u001b[0m\u001b[1;33m}\u001b[0m\u001b[1;33m\u001b[0m\u001b[1;33m\u001b[0m\u001b[0m\n\u001b[0;32m     52\u001b[0m \u001b[1;31m# print(data['num'])\u001b[0m\u001b[1;33m\u001b[0m\u001b[1;33m\u001b[0m\u001b[0m\n\u001b[1;32m---> 53\u001b[1;33m \u001b[1;32mfor\u001b[0m \u001b[0mi\u001b[0m\u001b[1;33m,\u001b[0m\u001b[0mv\u001b[0m \u001b[1;32min\u001b[0m \u001b[0mdata\u001b[0m\u001b[1;33m:\u001b[0m\u001b[1;33m\u001b[0m\u001b[1;33m\u001b[0m\u001b[0m\n\u001b[0m\u001b[0;32m     54\u001b[0m     \u001b[0mprint\u001b[0m\u001b[1;33m(\u001b[0m\u001b[0mv\u001b[0m\u001b[1;33m)\u001b[0m\u001b[1;33m\u001b[0m\u001b[1;33m\u001b[0m\u001b[0m\n\u001b[0;32m     55\u001b[0m     \u001b[1;32mfor\u001b[0m \u001b[0mj\u001b[0m \u001b[1;32min\u001b[0m \u001b[0mv\u001b[0m\u001b[1;33m:\u001b[0m\u001b[1;33m\u001b[0m\u001b[1;33m\u001b[0m\u001b[0m\n",
      "\u001b[1;31mValueError\u001b[0m: too many values to unpack (expected 2)"
     ]
    }
   ],
   "source": [
    "# Loops \n",
    "# for loop \n",
    "# data=[1,3,4]\n",
    "# for(int i;i<=sizeOf(data);i++){\n",
    "#     data[i]\n",
    "#     printf('$s',3)\n",
    "# }\n",
    "\n",
    "#\n",
    "##\n",
    "###\n",
    "####\n",
    "####\n",
    "###\n",
    "##\n",
    "#\n",
    "\n",
    "#    *\n",
    "#   ***\n",
    "#  ******\n",
    "# ********\n",
    "\n",
    "# data=(1,3,5,8,9)\n",
    "# for i in range(len(data)):\n",
    "# #     f'asjdhgasjkhdg jkas {i}'\n",
    "#     print(f'[{i}] => {data[i]}',end='')\n",
    "\n",
    "# for i in range(5):\n",
    "#     for j in range(i):\n",
    "#         print(f' * ',end='')\n",
    "#     print()\n",
    "\n",
    "# for i in range(5,0,-1):\n",
    "#     for j in range(i):\n",
    "#         print(f'*',end='')\n",
    "#     print()\n",
    "\n",
    "# while \n",
    "\n",
    "# jumping statements \n",
    "# break\n",
    "# pass\n",
    "# continue\n",
    "a=0\n",
    "pass\n",
    "b=2\n",
    "# for i in range(0,10):\n",
    "#     print(f'i-> {i}')\n",
    "#     break\n",
    "#     print(f\"i+1 -> {i+1}\")\n",
    "data={'num':[1,3,4,2],'chars':('a','b','c','d')}\n",
    "# print(data['num'])\n",
    "for i,v in data:\n",
    "    print(v)\n",
    "    for j in v:\n",
    "        print(j)\n",
    "        \n",
    "# Q1 take a string and detect the vowels and there occurrence\n",
    "# Q2 data={'num':[1,3,4,2],'chars':('a','b','c','d')} print all element's \n",
    "# Q3 star pattern \n",
    "# Q4 access dict with while loop\n",
    "# Q5 prime numbers, factorial , get prime numbers from 0-100\n",
    "\n",
    "# while a<len(data):\n",
    "#     print(data[a])\n",
    "#     a+=1\n"
   ]
  },
  {
   "cell_type": "code",
   "execution_count": 69,
   "id": "2e5093ca",
   "metadata": {},
   "outputs": [
    {
     "name": "stdout",
     "output_type": "stream",
     "text": [
      "Hello World\n",
      "None\n",
      "Second Time\n",
      "Hello World\n",
      "Hello World\n"
     ]
    }
   ],
   "source": [
    "#functions\n",
    "#pre defined -> print, len , type, range\n",
    "#custom function ->\n",
    "def helloworld(num):     #|  Function Defination  \n",
    "    for i in range(num):\n",
    "        print('Hello World')#|\n",
    "print(helloworld(1))\n",
    "print('Second Time')\n",
    "helloworld(2)"
   ]
  },
  {
   "cell_type": "code",
   "execution_count": 78,
   "id": "f3a89ce8",
   "metadata": {},
   "outputs": [
    {
     "name": "stdout",
     "output_type": "stream",
     "text": [
      "3\n",
      "16\n"
     ]
    }
   ],
   "source": [
    "def add(num2=1,num1=1):    \n",
    "    return num1 +num2\n",
    "\n",
    "print(add(2))\n",
    "print(add(7,9))"
   ]
  },
  {
   "cell_type": "code",
   "execution_count": 88,
   "id": "b1f7ef43",
   "metadata": {
    "scrolled": true
   },
   "outputs": [
    {
     "name": "stdout",
     "output_type": "stream",
     "text": [
      "828\n",
      "9833\n",
      "3\n"
     ]
    }
   ],
   "source": [
    "def sumoflist(*nums):\n",
    "    sums=0\n",
    "    for i in nums:\n",
    "        sums+=i\n",
    "    return sums\n",
    "    \n",
    "print(sumoflist(1,2,4,5,6,778,8,8,8,8))\n",
    "\n",
    "print(sumoflist(16,778,8,8,8,8,9,9,8989))\n",
    "\n",
    "print(sumoflist(2,1))"
   ]
  },
  {
   "cell_type": "code",
   "execution_count": 93,
   "id": "9f944932",
   "metadata": {},
   "outputs": [
    {
     "name": "stdout",
     "output_type": "stream",
     "text": [
      "fname -> harman\n",
      "lname -> Dhillon\n",
      "age -> 66\n"
     ]
    }
   ],
   "source": [
    "def PersonInfo(**info):\n",
    "    for i in info:\n",
    "        print(f'{i} -> {info[i]}')    \n",
    "PersonInfo(fname='harman',lname='Dhillon',age=66)"
   ]
  },
  {
   "cell_type": "code",
   "execution_count": 108,
   "id": "4fee71ef",
   "metadata": {},
   "outputs": [
    {
     "name": "stdout",
     "output_type": "stream",
     "text": [
      "()\n",
      "(9, 7, 9)\n"
     ]
    }
   ],
   "source": [
    "# Short Function \n",
    "# lambda function\n",
    "x=lambda *num:num\n",
    "print(x())\n",
    "print(x(9,7,9))"
   ]
  },
  {
   "cell_type": "code",
   "execution_count": 5,
   "id": "4d6cc2e6",
   "metadata": {},
   "outputs": [
    {
     "name": "stdout",
     "output_type": "stream",
     "text": [
      "0 1 1 2 3 5 8 13 21 34 "
     ]
    }
   ],
   "source": [
    "# recursions function\n",
    "def hello(n):\n",
    "    if n<=1:\n",
    "        return n\n",
    "    else:\n",
    "        return  hello(n-1) + hello(n-2)\n",
    "for i in range(10):\n",
    "    print(hello(i),end=' ')"
   ]
  },
  {
   "cell_type": "code",
   "execution_count": 1,
   "id": "6618df53",
   "metadata": {},
   "outputs": [
    {
     "name": "stdout",
     "output_type": "stream",
     "text": [
      "Class A\n",
      "77\n",
      "New Class Name\n"
     ]
    }
   ],
   "source": [
    "# Class  OOPS\n",
    "# Objects -> real life entity\n",
    "class A:\n",
    "    name='Class A'\n",
    "    year=77\n",
    "    def changeName(self,newName):\n",
    "        self.name=newName\n",
    "ob=A()\n",
    "print(ob.name)\n",
    "print(ob.year)\n",
    "ob.changeName('New Class Name')\n",
    "print(ob.name)\n",
    "\n",
    "# CALCULATOR With help of class\n",
    "# Calculate the price of travel\n",
    "#   -Create Objects from Vehicle class\n",
    "#   -Set Name, Brand,Type (eg- car , bike) petrol price, mileage or average\n",
    "#   -Take Distance Value and show the Petrol expense if we travel that distance \n",
    "\n",
    "\n",
    "\n"
   ]
  },
  {
   "cell_type": "code",
   "execution_count": 27,
   "id": "fd27bcc2",
   "metadata": {},
   "outputs": [
    {
     "name": "stdout",
     "output_type": "stream",
     "text": [
      "Random\n"
     ]
    }
   ],
   "source": [
    "class A:\n",
    "    def __init__(self,name):\n",
    "        self.name=name\n",
    "        print(name)\n",
    "    def __del__(self):\n",
    "        del self.name\n",
    "\n",
    "if __name__=='__main__':\n",
    "    A('Random')\n"
   ]
  },
  {
   "cell_type": "code",
   "execution_count": null,
   "id": "4dff0167",
   "metadata": {},
   "outputs": [],
   "source": [
    "# inheritrance\n",
    "# single\n",
    "# multiple\n",
    "# multilevel\n",
    "# herirecal\n",
    "# hybrid"
   ]
  },
  {
   "cell_type": "code",
   "execution_count": 26,
   "id": "3597b1e3",
   "metadata": {},
   "outputs": [
    {
     "name": "stdout",
     "output_type": "stream",
     "text": [
      "Class A\n"
     ]
    },
    {
     "data": {
      "text/plain": [
       "'Class A'"
      ]
     },
     "execution_count": 26,
     "metadata": {},
     "output_type": "execute_result"
    }
   ],
   "source": [
    "class A:\n",
    "    _name='Class A'\n",
    "    def show(self):\n",
    "        print(self.__name)\n",
    "class B(A):\n",
    "    nameB='Class B'\n",
    "    def show(self):\n",
    "        print(self.__name)\n",
    "class C(B):\n",
    "\n",
    "    pass\n",
    "print(A()._name)\n",
    "# B().show()\n",
    "ob =C()\n",
    "ob._name"
   ]
  },
  {
   "cell_type": "code",
   "execution_count": null,
   "id": "c57a94bd",
   "metadata": {},
   "outputs": [],
   "source": [
    "# exception Handling\n",
    "# try\n",
    "# except\n",
    "# final\n",
    "# else"
   ]
  },
  {
   "cell_type": "code",
   "execution_count": 39,
   "id": "7458275c",
   "metadata": {},
   "outputs": [
    {
     "name": "stdout",
     "output_type": "stream",
     "text": [
      "Other errors\n"
     ]
    }
   ],
   "source": [
    "try:\n",
    "    print(a)\n",
    "    print(1/0)\n",
    "except ZeroDivisionError:\n",
    "    print('ZeroDivisionError !!')\n",
    "except:\n",
    "    print('Other errors')"
   ]
  },
  {
   "cell_type": "code",
   "execution_count": 42,
   "id": "9816aeff",
   "metadata": {},
   "outputs": [
    {
     "name": "stdout",
     "output_type": "stream",
     "text": [
      "Enter a Value7\n",
      "7\n"
     ]
    }
   ],
   "source": [
    "num=int(input('Enter a Value'))\n",
    "if num < 0:\n",
    "    raise ValueError(\"Value is not valid it's Negative \")\n",
    "else:\n",
    "    print(num)"
   ]
  },
  {
   "cell_type": "code",
   "execution_count": null,
   "id": "b23183dd",
   "metadata": {},
   "outputs": [],
   "source": []
  }
 ],
 "metadata": {
  "kernelspec": {
   "display_name": "Python 3 (ipykernel)",
   "language": "python",
   "name": "python3"
  },
  "language_info": {
   "codemirror_mode": {
    "name": "ipython",
    "version": 3
   },
   "file_extension": ".py",
   "mimetype": "text/x-python",
   "name": "python",
   "nbconvert_exporter": "python",
   "pygments_lexer": "ipython3",
   "version": "3.9.7"
  }
 },
 "nbformat": 4,
 "nbformat_minor": 5
}
