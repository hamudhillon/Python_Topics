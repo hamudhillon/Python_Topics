{
 "cells": [
  {
   "cell_type": "code",
   "execution_count": 42,
   "id": "91cabb4f",
   "metadata": {},
   "outputs": [
    {
     "data": {
      "text/plain": [
       "'H'"
      ]
     },
     "execution_count": 42,
     "metadata": {},
     "output_type": "execute_result"
    }
   ],
   "source": [
    "a='Hello world'\n",
    "a[0]"
   ]
  },
  {
   "cell_type": "code",
   "execution_count": 28,
   "id": "54f36186",
   "metadata": {},
   "outputs": [
    {
     "data": {
      "text/plain": [
       "'olleH'"
      ]
     },
     "execution_count": 28,
     "metadata": {},
     "output_type": "execute_result"
    }
   ],
   "source": [
    "a[::-1]"
   ]
  },
  {
   "cell_type": "code",
   "execution_count": 58,
   "id": "8056ae57",
   "metadata": {},
   "outputs": [
    {
     "data": {
      "text/plain": [
       "False"
      ]
     },
     "execution_count": 58,
     "metadata": {},
     "output_type": "execute_result"
    }
   ],
   "source": [
    "# Function\n",
    "a.upper()\n",
    "a.lower()\n",
    "a.title()\n",
    "a.capitalize()\n",
    "a.replace('H','T')\n",
    "a.replace('O','d')\n",
    "a.split('l')\n",
    "a.find('p')\n",
    "a.count('Hello')\n",
    "a.isupper()\n",
    "a.islower()"
   ]
  },
  {
   "cell_type": "code",
   "execution_count": 112,
   "id": "f5071d95",
   "metadata": {},
   "outputs": [
    {
     "data": {
      "text/plain": [
       "[77, 2, 1, 3, 2, 3]"
      ]
     },
     "execution_count": 112,
     "metadata": {},
     "output_type": "execute_result"
    }
   ],
   "source": [
    "# LIST, Tuple, set, Dict \n",
    "data=[3,2,3,1,2,77]\n",
    "data[::-1]"
   ]
  },
  {
   "cell_type": "code",
   "execution_count": 114,
   "id": "bb66d28c",
   "metadata": {},
   "outputs": [
    {
     "data": {
      "text/plain": [
       "[99, 3, 3, 2, 2, 1]"
      ]
     },
     "execution_count": 114,
     "metadata": {},
     "output_type": "execute_result"
    }
   ],
   "source": [
    "# Function\n",
    "# data.append('a')\n",
    "# print(data.remove(3))\n",
    "# data.insert(2,'b')\n",
    "# print(data.pop(5))\n",
    "data.sort()\n",
    "data.reverse()\n",
    "data[0]=99\n",
    "# data.clear()\n",
    "data"
   ]
  },
  {
   "cell_type": "code",
   "execution_count": 126,
   "id": "198df415",
   "metadata": {},
   "outputs": [
    {
     "data": {
      "text/plain": [
       "(99, 5, 7, 8, 3, 3)"
      ]
     },
     "execution_count": 126,
     "metadata": {},
     "output_type": "execute_result"
    }
   ],
   "source": [
    "# Tuple \n",
    "data=(1,5,7,8,3,3)\n",
    "# data[0]=99\n",
    "# data.append(6)\n",
    "len(data)\n",
    "data=list(data)\n",
    "data[0]=99\n",
    "data=tuple(data)\n",
    "data"
   ]
  },
  {
   "cell_type": "code",
   "execution_count": 181,
   "id": "56e6991a",
   "metadata": {},
   "outputs": [
    {
     "data": {
      "text/plain": [
       "1"
      ]
     },
     "execution_count": 181,
     "metadata": {},
     "output_type": "execute_result"
    }
   ],
   "source": [
    "# set\n",
    "data={1,99,6,4,53,2,'a'}\n",
    "# data[0]=88\n",
    "# data.add(77)\n",
    "data.update({'HHHH','aklsdjklas','sad'})\n",
    "# data.remove(99)\n",
    "# data.discard(2)\n",
    "data.pop()\n",
    "# data"
   ]
  },
  {
   "cell_type": "code",
   "execution_count": 223,
   "id": "935df8e6",
   "metadata": {},
   "outputs": [
    {
     "data": {
      "text/plain": [
       "{}"
      ]
     },
     "execution_count": 223,
     "metadata": {},
     "output_type": "execute_result"
    }
   ],
   "source": [
    "# Dict\n",
    "data={\n",
    "    200:'dsaknd',\n",
    "    'name':'Harman',\n",
    "    \"age\":99,\n",
    "    'Phone':456789\n",
    "}\n",
    "# data['age']=66\n",
    "# data.update({'address':'mohali'})\n",
    "# print(data.pop('age'))\n",
    "# print(data.popitem())\n",
    "data.keys()\n",
    "data.values()\n",
    "data.items()\n",
    "data.get('name')\n",
    "data.clear()\n",
    "data"
   ]
  },
  {
   "cell_type": "code",
   "execution_count": 21,
   "id": "366bf767",
   "metadata": {
    "scrolled": true
   },
   "outputs": [
    {
     "name": "stdout",
     "output_type": "stream",
     "text": [
      "Enter a Number 8\n",
      "a is not zero\n",
      "a is not zero\n"
     ]
    }
   ],
   "source": [
    "# Conditions\n",
    "# Flow Control\n",
    "a=int(input('Enter a Number '))\n",
    "county=input('Enter a Country')\n",
    "# if(a==0){ #scope\n",
    "#     printf('a is zero')\n",
    "# }\n",
    "\n",
    "if a==0:\n",
    "    if a==1:\n",
    "        print('a is nor zero')\n",
    "    print('a is zero')\n",
    "elif a==1:\n",
    "    print('a is one')\n",
    "elif(a>10 and a<20):\n",
    "                   print('a is between 10-20')\n",
    "else:\n",
    "     print('a is not zero')\n",
    "     print('a is not zero')\n"
   ]
  },
  {
   "cell_type": "code",
   "execution_count": 3,
   "id": "939dd8a2",
   "metadata": {},
   "outputs": [],
   "source": [
    "# q1 odd or even\n",
    "# q2 check vowels in string take a string \n",
    "#\n",
    "# Nested condition\n",
    "# q3 take 3 values Country,Age,gender and give output as eligible for vote or not\n",
    "#  conditions1 -> country india for male age 18+ for female age 18+\n",
    "#  conditions2 -> country south africa male age 18+ for female age 21+\n",
    "#  condition3 -> country North korea male age 18+ and female are not allowed"
   ]
  },
  {
   "cell_type": "code",
   "execution_count": 59,
   "id": "c1d7ec63",
   "metadata": {},
   "outputs": [
    {
     "ename": "ValueError",
     "evalue": "too many values to unpack (expected 2)",
     "output_type": "error",
     "traceback": [
      "\u001b[1;31m---------------------------------------------------------------------------\u001b[0m",
      "\u001b[1;31mValueError\u001b[0m                                Traceback (most recent call last)",
      "\u001b[1;32m~\\AppData\\Local\\Temp\\ipykernel_30260\\14565761.py\u001b[0m in \u001b[0;36m<module>\u001b[1;34m\u001b[0m\n\u001b[0;32m     51\u001b[0m \u001b[0mdata\u001b[0m\u001b[1;33m=\u001b[0m\u001b[1;33m{\u001b[0m\u001b[1;34m'num'\u001b[0m\u001b[1;33m:\u001b[0m\u001b[1;33m[\u001b[0m\u001b[1;36m1\u001b[0m\u001b[1;33m,\u001b[0m\u001b[1;36m3\u001b[0m\u001b[1;33m,\u001b[0m\u001b[1;36m4\u001b[0m\u001b[1;33m,\u001b[0m\u001b[1;36m2\u001b[0m\u001b[1;33m]\u001b[0m\u001b[1;33m,\u001b[0m\u001b[1;34m'chars'\u001b[0m\u001b[1;33m:\u001b[0m\u001b[1;33m(\u001b[0m\u001b[1;34m'a'\u001b[0m\u001b[1;33m,\u001b[0m\u001b[1;34m'b'\u001b[0m\u001b[1;33m,\u001b[0m\u001b[1;34m'c'\u001b[0m\u001b[1;33m,\u001b[0m\u001b[1;34m'd'\u001b[0m\u001b[1;33m)\u001b[0m\u001b[1;33m}\u001b[0m\u001b[1;33m\u001b[0m\u001b[1;33m\u001b[0m\u001b[0m\n\u001b[0;32m     52\u001b[0m \u001b[1;31m# print(data['num'])\u001b[0m\u001b[1;33m\u001b[0m\u001b[1;33m\u001b[0m\u001b[0m\n\u001b[1;32m---> 53\u001b[1;33m \u001b[1;32mfor\u001b[0m \u001b[0mi\u001b[0m\u001b[1;33m,\u001b[0m\u001b[0mv\u001b[0m \u001b[1;32min\u001b[0m \u001b[0mdata\u001b[0m\u001b[1;33m:\u001b[0m\u001b[1;33m\u001b[0m\u001b[1;33m\u001b[0m\u001b[0m\n\u001b[0m\u001b[0;32m     54\u001b[0m     \u001b[0mprint\u001b[0m\u001b[1;33m(\u001b[0m\u001b[0mv\u001b[0m\u001b[1;33m)\u001b[0m\u001b[1;33m\u001b[0m\u001b[1;33m\u001b[0m\u001b[0m\n\u001b[0;32m     55\u001b[0m     \u001b[1;32mfor\u001b[0m \u001b[0mj\u001b[0m \u001b[1;32min\u001b[0m \u001b[0mv\u001b[0m\u001b[1;33m:\u001b[0m\u001b[1;33m\u001b[0m\u001b[1;33m\u001b[0m\u001b[0m\n",
      "\u001b[1;31mValueError\u001b[0m: too many values to unpack (expected 2)"
     ]
    }
   ],
   "source": [
    "# Loops \n",
    "# for loop \n",
    "# data=[1,3,4]\n",
    "# for(int i;i<=sizeOf(data);i++){\n",
    "#     data[i]\n",
    "#     printf('$s',3)\n",
    "# }\n",
    "\n",
    "#\n",
    "##\n",
    "###\n",
    "####\n",
    "####\n",
    "###\n",
    "##\n",
    "#\n",
    "\n",
    "#    *\n",
    "#   ***\n",
    "#  ******\n",
    "# ********\n",
    "\n",
    "# data=(1,3,5,8,9)\n",
    "# for i in range(len(data)):\n",
    "# #     f'asjdhgasjkhdg jkas {i}'\n",
    "#     print(f'[{i}] => {data[i]}',end='')\n",
    "\n",
    "# for i in range(5):\n",
    "#     for j in range(i):\n",
    "#         print(f' * ',end='')\n",
    "#     print()\n",
    "\n",
    "# for i in range(5,0,-1):\n",
    "#     for j in range(i):\n",
    "#         print(f'*',end='')\n",
    "#     print()\n",
    "\n",
    "# while \n",
    "\n",
    "# jumping statements \n",
    "# break\n",
    "# pass\n",
    "# continue\n",
    "a=0\n",
    "pass\n",
    "b=2\n",
    "# for i in range(0,10):\n",
    "#     print(f'i-> {i}')\n",
    "#     break\n",
    "#     print(f\"i+1 -> {i+1}\")\n",
    "data={'num':[1,3,4,2],'chars':('a','b','c','d')}\n",
    "# print(data['num'])\n",
    "for i,v in data:\n",
    "    print(v)\n",
    "    for j in v:\n",
    "        print(j)\n",
    "        \n",
    "# Q1 take a string and detect the vowels and there occurrence\n",
    "# Q2 data={'num':[1,3,4,2],'chars':('a','b','c','d')} print all element's \n",
    "# Q3 star pattern \n",
    "# Q4 access dict with while loop\n",
    "# Q5 prime numbers, factorial , get prime numbers from 0-100\n",
    "\n",
    "# while a<len(data):\n",
    "#     print(data[a])\n",
    "#     a+=1\n"
   ]
  },
  {
   "cell_type": "code",
   "execution_count": 69,
   "id": "2e5093ca",
   "metadata": {},
   "outputs": [
    {
     "name": "stdout",
     "output_type": "stream",
     "text": [
      "Hello World\n",
      "None\n",
      "Second Time\n",
      "Hello World\n",
      "Hello World\n"
     ]
    }
   ],
   "source": [
    "#functions\n",
    "#pre defined -> print, len , type, range\n",
    "#custom function ->\n",
    "def helloworld(num):     #|  Function Defination  \n",
    "    for i in range(num):\n",
    "        print('Hello World')#|\n",
    "print(helloworld(1))\n",
    "print('Second Time')\n",
    "helloworld(2)"
   ]
  },
  {
   "cell_type": "code",
   "execution_count": 78,
   "id": "f3a89ce8",
   "metadata": {},
   "outputs": [
    {
     "name": "stdout",
     "output_type": "stream",
     "text": [
      "3\n",
      "16\n"
     ]
    }
   ],
   "source": [
    "def add(num2=1,num1=1):    \n",
    "    return num1 +num2\n",
    "\n",
    "print(add(2))\n",
    "print(add(7,9))"
   ]
  },
  {
   "cell_type": "code",
   "execution_count": 88,
   "id": "b1f7ef43",
   "metadata": {
    "scrolled": true
   },
   "outputs": [
    {
     "name": "stdout",
     "output_type": "stream",
     "text": [
      "828\n",
      "9833\n",
      "3\n"
     ]
    }
   ],
   "source": [
    "def sumoflist(*nums):\n",
    "    sums=0\n",
    "    for i in nums:\n",
    "        sums+=i\n",
    "    return sums\n",
    "    \n",
    "print(sumoflist(1,2,4,5,6,778,8,8,8,8))\n",
    "\n",
    "print(sumoflist(16,778,8,8,8,8,9,9,8989))\n",
    "\n",
    "print(sumoflist(2,1))"
   ]
  },
  {
   "cell_type": "code",
   "execution_count": 93,
   "id": "9f944932",
   "metadata": {},
   "outputs": [
    {
     "name": "stdout",
     "output_type": "stream",
     "text": [
      "fname -> harman\n",
      "lname -> Dhillon\n",
      "age -> 66\n"
     ]
    }
   ],
   "source": [
    "def PersonInfo(**info):\n",
    "    for i in info:\n",
    "        print(f'{i} -> {info[i]}')    \n",
    "PersonInfo(fname='harman',lname='Dhillon',age=66)"
   ]
  },
  {
   "cell_type": "code",
   "execution_count": 108,
   "id": "4fee71ef",
   "metadata": {},
   "outputs": [
    {
     "name": "stdout",
     "output_type": "stream",
     "text": [
      "()\n",
      "(9, 7, 9)\n"
     ]
    }
   ],
   "source": [
    "# Short Function \n",
    "# lambda function\n",
    "x=lambda *num:num\n",
    "print(x())\n",
    "print(x(9,7,9))"
   ]
  },
  {
   "cell_type": "code",
   "execution_count": 5,
   "id": "4d6cc2e6",
   "metadata": {},
   "outputs": [
    {
     "name": "stdout",
     "output_type": "stream",
     "text": [
      "0 1 1 2 3 5 8 13 21 34 "
     ]
    }
   ],
   "source": [
    "# recursions function\n",
    "def hello(n):\n",
    "    if n<=1:\n",
    "        return n\n",
    "    else:\n",
    "        return  hello(n-1) + hello(n-2)\n",
    "for i in range(10):\n",
    "    print(hello(i),end=' ')"
   ]
  },
  {
   "cell_type": "code",
   "execution_count": 1,
   "id": "6618df53",
   "metadata": {},
   "outputs": [
    {
     "name": "stdout",
     "output_type": "stream",
     "text": [
      "Class A\n",
      "77\n",
      "New Class Name\n"
     ]
    }
   ],
   "source": [
    "# Class  OOPS\n",
    "# Objects -> real life entity\n",
    "class A:\n",
    "    name='Class A'\n",
    "    year=77\n",
    "    def changeName(self,newName):\n",
    "        self.name=newName\n",
    "ob=A()\n",
    "print(ob.name)\n",
    "print(ob.year)\n",
    "ob.changeName('New Class Name')\n",
    "print(ob.name)\n",
    "\n",
    "# CALCULATOR With help of class\n",
    "# Calculate the price of travel\n",
    "#   -Create Objects from Vehicle class\n",
    "#   -Set Name, Brand,Type (eg- car , bike) petrol price, mileage or average\n",
    "#   -Take Distance Value and show the Petrol expense if we travel that distance \n",
    "\n",
    "\n",
    "\n"
   ]
  },
  {
   "cell_type": "code",
   "execution_count": 27,
   "id": "fd27bcc2",
   "metadata": {},
   "outputs": [
    {
     "name": "stdout",
     "output_type": "stream",
     "text": [
      "Random\n"
     ]
    }
   ],
   "source": [
    "class A:\n",
    "    def __init__(self,name):\n",
    "        self.name=name\n",
    "        print(name)\n",
    "    def __del__(self):\n",
    "        del self.name\n",
    "\n",
    "if __name__=='__main__':\n",
    "    A('Random')\n"
   ]
  },
  {
   "cell_type": "code",
   "execution_count": null,
   "id": "4dff0167",
   "metadata": {},
   "outputs": [],
   "source": [
    "# inheritrance\n",
    "# single\n",
    "# multiple\n",
    "# multilevel\n",
    "# herirecal\n",
    "# hybrid"
   ]
  },
  {
   "cell_type": "code",
   "execution_count": 26,
   "id": "3597b1e3",
   "metadata": {},
   "outputs": [
    {
     "name": "stdout",
     "output_type": "stream",
     "text": [
      "Class A\n"
     ]
    },
    {
     "data": {
      "text/plain": [
       "'Class A'"
      ]
     },
     "execution_count": 26,
     "metadata": {},
     "output_type": "execute_result"
    }
   ],
   "source": [
    "class A:\n",
    "    _name='Class A'\n",
    "    def show(self):\n",
    "        print(self.__name)\n",
    "class B(A):\n",
    "    nameB='Class B'\n",
    "    def show(self):\n",
    "        print(self.__name)\n",
    "class C(B):\n",
    "\n",
    "    pass\n",
    "print(A()._name)\n",
    "# B().show()\n",
    "ob =C()\n",
    "ob._name"
   ]
  },
  {
   "cell_type": "code",
   "execution_count": null,
   "id": "c57a94bd",
   "metadata": {},
   "outputs": [],
   "source": [
    "# exception Handling\n",
    "# try\n",
    "# except\n",
    "# final\n",
    "# else"
   ]
  },
  {
   "cell_type": "code",
   "execution_count": 39,
   "id": "7458275c",
   "metadata": {},
   "outputs": [
    {
     "name": "stdout",
     "output_type": "stream",
     "text": [
      "Other errors\n"
     ]
    }
   ],
   "source": [
    "try:\n",
    "    print(a)\n",
    "    print(1/0)\n",
    "except ZeroDivisionError:\n",
    "    print('ZeroDivisionError !!')\n",
    "except:\n",
    "    print('Other errors')"
   ]
  },
  {
   "cell_type": "code",
   "execution_count": 42,
   "id": "9816aeff",
   "metadata": {},
   "outputs": [
    {
     "name": "stdout",
     "output_type": "stream",
     "text": [
      "Enter a Value7\n",
      "7\n"
     ]
    }
   ],
   "source": [
    "num=int(input('Enter a Value'))\n",
    "if num < 0:\n",
    "    raise ValueError(\"Value is not valid it's Negative \")\n",
    "else:\n",
    "    print(num)"
   ]
  },
  {
   "cell_type": "code",
   "execution_count": null,
   "id": "b23183dd",
   "metadata": {},
   "outputs": [],
   "source": [
    "class Myerror(Exception):\n",
    "    def __init__(self, msg,error):\n",
    "        super().__init__(msg)\n",
    "        self.error=error\n",
    "\n",
    "Myerror('MY error msg','MyError')"
   ]
  },
  {
   "cell_type": "code",
   "execution_count": 47,
   "id": "9329ee9b",
   "metadata": {},
   "outputs": [],
   "source": [
    "# file handling\n",
    "'''\n",
    "w\n",
    "r\n",
    "a\n",
    "'''\n",
    "fw=open('data.txt','w')\n",
    "fw.write('''\n",
    "Hello World\n",
    "asdasdasd\n",
    "asdasd\n",
    "asdascasca\n",
    "asdcxcwqcwqc\n",
    "qweqwewqe\n",
    "''')\n",
    "fw.close()"
   ]
  },
  {
   "cell_type": "code",
   "execution_count": 51,
   "id": "d0aa0138",
   "metadata": {},
   "outputs": [
    {
     "name": "stdout",
     "output_type": "stream",
     "text": [
      "\n",
      "Hello World\n",
      "asdasdasd\n",
      "asdasd\n",
      "asdascasca\n",
      "asdcxcwqcwqc\n",
      "qweqwewqe\n",
      "\n",
      "\n"
     ]
    }
   ],
   "source": [
    "fr=open('data.txt','r')\n",
    "# print(fr.read())\n",
    "print(fr.readline())\n",
    "\n",
    "fr.close()"
   ]
  },
  {
   "cell_type": "code",
   "execution_count": 5,
   "id": "a19ed512",
   "metadata": {},
   "outputs": [
    {
     "name": "stdout",
     "output_type": "stream",
     "text": [
      "Enter nameRandom\n",
      "Enter pass1222\n"
     ]
    }
   ],
   "source": [
    "name=input('Enter name')\n",
    "password=input('Enter pass')\n",
    "\n",
    "\n",
    "fw=open('Newdata.txt','a')\n",
    "fw.write(f'''name-{name} | pass-{password}\n",
    "''')\n",
    "fw.close()\n"
   ]
  },
  {
   "cell_type": "code",
   "execution_count": 6,
   "id": "4b93aa28",
   "metadata": {},
   "outputs": [
    {
     "name": "stdout",
     "output_type": "stream",
     "text": [
      "name-Harman | pass-123\n",
      "name-Random | pass-1222\n",
      "\n"
     ]
    }
   ],
   "source": [
    "fr=open('Newdata.txt','r')\n",
    "print(fr.read())\n",
    "fr.close()"
   ]
  },
  {
   "cell_type": "code",
   "execution_count": 7,
   "id": "0fe8d010",
   "metadata": {},
   "outputs": [
    {
     "name": "stdout",
     "output_type": "stream",
     "text": [
      "\n",
      "1 signp\n",
      "2 login\n",
      "1\n",
      "Enter nameadjhasd\n",
      "Enter pass21312\n"
     ]
    }
   ],
   "source": [
    "choice=input('''\n",
    "1 signp\n",
    "2 login\n",
    "''')\n",
    "if choice =='1':\n",
    "    name=input('Enter name')\n",
    "    password=input('Enter pass')\n",
    "\n",
    "\n",
    "    fw=open('Newdata.txt','a')\n",
    "    fw.write(f'''name-{name} | pass-{password}\n",
    "    ''')\n",
    "    fw.close()\n",
    "elif choice=='2':\n",
    "    name=input('Enter name')\n",
    "    password=input('Enter pass')\n",
    "\n",
    "\n",
    "    fw=open('Newdata.txt','a')\n",
    "    fw.write(f'''name-{name} | pass-{password}\n",
    "    ''')\n",
    "    fw.close()\n",
    "else:\n",
    "    print('Invalid selection')"
   ]
  },
  {
   "cell_type": "code",
   "execution_count": 29,
   "id": "939f50b8",
   "metadata": {},
   "outputs": [
    {
     "name": "stdout",
     "output_type": "stream",
     "text": [
      "Not a number\n"
     ]
    }
   ],
   "source": [
    "# Modules\n",
    "\n",
    "# import math\n",
    "# from math import factorial,sqrt\n",
    "# from math import *\n",
    "\n",
    "# math.__dir__()\n",
    "# factorial(6)\n",
    "# sqrt(6)\n",
    "# log(6)\n",
    "# try:\n",
    "#     isnan('asdkjashjk') #Not a Number\n",
    "# except:\n",
    "#     print('Not a number')\n",
    "    # math.factorial(500)\n",
    "# math.log(5)"
   ]
  },
  {
   "cell_type": "code",
   "execution_count": 30,
   "id": "575df17b",
   "metadata": {},
   "outputs": [
    {
     "data": {
      "text/plain": [
       "120"
      ]
     },
     "execution_count": 30,
     "metadata": {},
     "output_type": "execute_result"
    }
   ],
   "source": [
    "from math import factorial as f\n",
    "f(5)"
   ]
  },
  {
   "cell_type": "code",
   "execution_count": 231,
   "id": "60fe51c6",
   "metadata": {},
   "outputs": [
    {
     "data": {
      "text/plain": [
       "datetime.time(14, 39, 20, 259449)"
      ]
     },
     "execution_count": 231,
     "metadata": {},
     "output_type": "execute_result"
    }
   ],
   "source": [
    "import datetime\n",
    "datetime.datetime.now().time()"
   ]
  },
  {
   "cell_type": "code",
   "execution_count": 232,
   "id": "ac487d35",
   "metadata": {},
   "outputs": [
    {
     "data": {
      "text/plain": [
       "['__name__',\n",
       " '__doc__',\n",
       " '__package__',\n",
       " '__loader__',\n",
       " '__spec__',\n",
       " '__file__',\n",
       " '__cached__',\n",
       " '__builtins__',\n",
       " 'abc',\n",
       " 'sys',\n",
       " 'st',\n",
       " '_check_methods',\n",
       " 'GenericAlias',\n",
       " '__all__',\n",
       " '_exists',\n",
       " '_get_exports_list',\n",
       " 'name',\n",
       " 'linesep',\n",
       " 'stat',\n",
       " 'access',\n",
       " 'chdir',\n",
       " 'chmod',\n",
       " 'getcwd',\n",
       " 'getcwdb',\n",
       " 'link',\n",
       " 'listdir',\n",
       " 'lstat',\n",
       " 'mkdir',\n",
       " 'readlink',\n",
       " 'rename',\n",
       " 'replace',\n",
       " 'rmdir',\n",
       " 'symlink',\n",
       " 'system',\n",
       " 'umask',\n",
       " 'unlink',\n",
       " 'remove',\n",
       " 'utime',\n",
       " 'times',\n",
       " 'execv',\n",
       " 'execve',\n",
       " 'spawnv',\n",
       " 'spawnve',\n",
       " 'getpid',\n",
       " 'getppid',\n",
       " 'getlogin',\n",
       " 'kill',\n",
       " 'startfile',\n",
       " 'waitpid',\n",
       " 'open',\n",
       " 'close',\n",
       " 'closerange',\n",
       " 'device_encoding',\n",
       " 'dup',\n",
       " 'dup2',\n",
       " 'lseek',\n",
       " 'read',\n",
       " 'write',\n",
       " 'fstat',\n",
       " 'isatty',\n",
       " 'pipe',\n",
       " 'ftruncate',\n",
       " 'truncate',\n",
       " 'putenv',\n",
       " 'unsetenv',\n",
       " 'strerror',\n",
       " 'fsync',\n",
       " 'abort',\n",
       " 'urandom',\n",
       " 'get_terminal_size',\n",
       " 'cpu_count',\n",
       " 'get_inheritable',\n",
       " 'set_inheritable',\n",
       " 'get_handle_inheritable',\n",
       " 'set_handle_inheritable',\n",
       " 'scandir',\n",
       " 'fspath',\n",
       " 'waitstatus_to_exitcode',\n",
       " 'environ',\n",
       " 'F_OK',\n",
       " 'R_OK',\n",
       " 'W_OK',\n",
       " 'X_OK',\n",
       " 'TMP_MAX',\n",
       " 'O_RDONLY',\n",
       " 'O_WRONLY',\n",
       " 'O_RDWR',\n",
       " 'O_APPEND',\n",
       " 'O_CREAT',\n",
       " 'O_EXCL',\n",
       " 'O_TRUNC',\n",
       " 'O_BINARY',\n",
       " 'O_TEXT',\n",
       " 'O_NOINHERIT',\n",
       " 'O_SHORT_LIVED',\n",
       " 'O_TEMPORARY',\n",
       " 'O_RANDOM',\n",
       " 'O_SEQUENTIAL',\n",
       " 'P_WAIT',\n",
       " 'P_NOWAIT',\n",
       " 'P_NOWAITO',\n",
       " 'P_OVERLAY',\n",
       " 'P_DETACH',\n",
       " 'error',\n",
       " 'stat_result',\n",
       " 'statvfs_result',\n",
       " 'terminal_size',\n",
       " 'DirEntry',\n",
       " 'times_result',\n",
       " 'uname_result',\n",
       " '_exit',\n",
       " 'path',\n",
       " 'curdir',\n",
       " 'pardir',\n",
       " 'sep',\n",
       " 'pathsep',\n",
       " 'defpath',\n",
       " 'extsep',\n",
       " 'altsep',\n",
       " 'devnull',\n",
       " 'supports_dir_fd',\n",
       " 'supports_effective_ids',\n",
       " 'supports_fd',\n",
       " 'supports_follow_symlinks',\n",
       " 'SEEK_SET',\n",
       " 'SEEK_CUR',\n",
       " 'SEEK_END',\n",
       " 'makedirs',\n",
       " 'removedirs',\n",
       " 'renames',\n",
       " 'walk',\n",
       " '_walk',\n",
       " 'execl',\n",
       " 'execle',\n",
       " 'execlp',\n",
       " 'execlpe',\n",
       " 'execvp',\n",
       " 'execvpe',\n",
       " '_execvpe',\n",
       " 'get_exec_path',\n",
       " 'MutableMapping',\n",
       " 'Mapping',\n",
       " '_Environ',\n",
       " 'getenv',\n",
       " 'supports_bytes_environ',\n",
       " 'fsencode',\n",
       " 'fsdecode',\n",
       " 'spawnl',\n",
       " 'spawnle',\n",
       " 'popen',\n",
       " '_wrap_close',\n",
       " 'fdopen',\n",
       " '_fspath',\n",
       " 'PathLike',\n",
       " '_AddedDllDirectory',\n",
       " 'add_dll_directory']"
      ]
     },
     "execution_count": 232,
     "metadata": {},
     "output_type": "execute_result"
    }
   ],
   "source": [
    "import os\n",
    "os.__dir__()"
   ]
  },
  {
   "cell_type": "code",
   "execution_count": 240,
   "id": "358faf3d",
   "metadata": {},
   "outputs": [
    {
     "data": {
      "text/plain": [
       "'Jashodaben Modi (née Jashodaben Chimanlal Modi; born 1951) is a retired Indian school teacher. She is the estranged wife of Narendra Modi, the prime minister of India. The couple were married in 1968 when she was about 17 and Modi was 18. A short time into the marriage, her husband abandoned her. He did not acknowledge the marriage publicly until he was legally required to do so before the 2014 Indian general elections. Having retired from teaching, Jashodaben is said to lead a simple life of prayer.\\n\\n'"
      ]
     },
     "execution_count": 240,
     "metadata": {},
     "output_type": "execute_result"
    }
   ],
   "source": [
    "import wikipedia as wiki\n",
    "\n",
    "wikipedia.summary('Anglo-Indians')\n",
    "search=wiki.search('modi')[1]\n",
    "wiki.summary(search)"
   ]
  },
  {
   "cell_type": "code",
   "execution_count": 256,
   "id": "1f806100",
   "metadata": {},
   "outputs": [
    {
     "ename": "JSONDecodeError",
     "evalue": "Expecting property name enclosed in double quotes: line 1 column 2 (char 1)",
     "output_type": "error",
     "traceback": [
      "\u001b[1;31m---------------------------------------------------------------------------\u001b[0m",
      "\u001b[1;31mJSONDecodeError\u001b[0m                           Traceback (most recent call last)",
      "\u001b[1;32m~\\AppData\\Local\\Temp\\ipykernel_2860\\1264847596.py\u001b[0m in \u001b[0;36m<module>\u001b[1;34m\u001b[0m\n\u001b[0;32m     14\u001b[0m \u001b[0minsta_reel\u001b[0m\u001b[1;33m\u001b[0m\u001b[1;33m\u001b[0m\u001b[0m\n\u001b[0;32m     15\u001b[0m \u001b[1;33m\u001b[0m\u001b[0m\n\u001b[1;32m---> 16\u001b[1;33m \u001b[0minsta_reel\u001b[0m\u001b[1;33m.\u001b[0m\u001b[0mscrape\u001b[0m\u001b[1;33m(\u001b[0m\u001b[0mheaders\u001b[0m\u001b[1;33m=\u001b[0m\u001b[0mheaders\u001b[0m\u001b[1;33m)\u001b[0m\u001b[1;33m\u001b[0m\u001b[1;33m\u001b[0m\u001b[0m\n\u001b[0m",
      "\u001b[1;32m~\\AppData\\Local\\Programs\\Python\\Python39\\lib\\site-packages\\instascrape\\scrapers\\post.py\u001b[0m in \u001b[0;36mscrape\u001b[1;34m(self, mapping, keys, exclude, headers, inplace, session, webdriver)\u001b[0m\n\u001b[0;32m     71\u001b[0m         \u001b[1;32mif\u001b[0m \u001b[0mhasattr\u001b[0m\u001b[1;33m(\u001b[0m\u001b[0mself\u001b[0m\u001b[1;33m,\u001b[0m \u001b[1;34m\"shortcode\"\u001b[0m\u001b[1;33m)\u001b[0m\u001b[1;33m:\u001b[0m\u001b[1;33m\u001b[0m\u001b[1;33m\u001b[0m\u001b[0m\n\u001b[0;32m     72\u001b[0m             \u001b[0mself\u001b[0m\u001b[1;33m.\u001b[0m\u001b[0msource\u001b[0m \u001b[1;33m=\u001b[0m \u001b[0mself\u001b[0m\u001b[1;33m.\u001b[0m\u001b[0mshortcode\u001b[0m\u001b[1;33m\u001b[0m\u001b[1;33m\u001b[0m\u001b[0m\n\u001b[1;32m---> 73\u001b[1;33m         return_instance = super().scrape(\n\u001b[0m\u001b[0;32m     74\u001b[0m                             \u001b[0mmapping\u001b[0m\u001b[1;33m=\u001b[0m\u001b[0mmapping\u001b[0m\u001b[1;33m,\u001b[0m\u001b[1;33m\u001b[0m\u001b[1;33m\u001b[0m\u001b[0m\n\u001b[0;32m     75\u001b[0m                             \u001b[0mkeys\u001b[0m\u001b[1;33m=\u001b[0m\u001b[0mkeys\u001b[0m\u001b[1;33m,\u001b[0m\u001b[1;33m\u001b[0m\u001b[1;33m\u001b[0m\u001b[0m\n",
      "\u001b[1;32m~\\AppData\\Local\\Programs\\Python\\Python39\\lib\\site-packages\\instascrape\\core\\_static_scraper.py\u001b[0m in \u001b[0;36mscrape\u001b[1;34m(self, mapping, keys, exclude, headers, inplace, session, webdriver)\u001b[0m\n\u001b[0;32m    142\u001b[0m             \u001b[0mscraped_dict\u001b[0m \u001b[1;33m=\u001b[0m \u001b[0mself\u001b[0m\u001b[1;33m.\u001b[0m\u001b[0msource\u001b[0m\u001b[1;33m.\u001b[0m\u001b[0mto_dict\u001b[0m\u001b[1;33m(\u001b[0m\u001b[1;33m)\u001b[0m\u001b[1;33m\u001b[0m\u001b[1;33m\u001b[0m\u001b[0m\n\u001b[0;32m    143\u001b[0m         \u001b[1;32melse\u001b[0m\u001b[1;33m:\u001b[0m\u001b[1;33m\u001b[0m\u001b[1;33m\u001b[0m\u001b[0m\n\u001b[1;32m--> 144\u001b[1;33m             \u001b[0mreturn_data\u001b[0m \u001b[1;33m=\u001b[0m \u001b[0mself\u001b[0m\u001b[1;33m.\u001b[0m\u001b[0m_get_json_from_source\u001b[0m\u001b[1;33m(\u001b[0m\u001b[0mself\u001b[0m\u001b[1;33m.\u001b[0m\u001b[0msource\u001b[0m\u001b[1;33m,\u001b[0m \u001b[0mheaders\u001b[0m\u001b[1;33m=\u001b[0m\u001b[0mheaders\u001b[0m\u001b[1;33m,\u001b[0m \u001b[0msession\u001b[0m\u001b[1;33m=\u001b[0m\u001b[0msession\u001b[0m\u001b[1;33m)\u001b[0m\u001b[1;33m\u001b[0m\u001b[1;33m\u001b[0m\u001b[0m\n\u001b[0m\u001b[0;32m    145\u001b[0m             \u001b[0mflat_json_dict\u001b[0m \u001b[1;33m=\u001b[0m \u001b[0mflatten_dict\u001b[0m\u001b[1;33m(\u001b[0m\u001b[0mreturn_data\u001b[0m\u001b[1;33m[\u001b[0m\u001b[1;34m\"json_dict\"\u001b[0m\u001b[1;33m]\u001b[0m\u001b[1;33m)\u001b[0m\u001b[1;33m\u001b[0m\u001b[1;33m\u001b[0m\u001b[0m\n\u001b[0;32m    146\u001b[0m \u001b[1;33m\u001b[0m\u001b[0m\n",
      "\u001b[1;32m~\\AppData\\Local\\Programs\\Python\\Python39\\lib\\site-packages\\instascrape\\core\\_static_scraper.py\u001b[0m in \u001b[0;36m_get_json_from_source\u001b[1;34m(self, source, headers, session)\u001b[0m\n\u001b[0;32m    258\u001b[0m             \u001b[1;32mif\u001b[0m \u001b[0minitial_type\u001b[0m\u001b[1;33m:\u001b[0m\u001b[1;33m\u001b[0m\u001b[1;33m\u001b[0m\u001b[0m\n\u001b[0;32m    259\u001b[0m                 \u001b[0msoup\u001b[0m \u001b[1;33m=\u001b[0m \u001b[0mself\u001b[0m\u001b[1;33m.\u001b[0m\u001b[0msource\u001b[0m\u001b[1;33m\u001b[0m\u001b[1;33m\u001b[0m\u001b[0m\n\u001b[1;32m--> 260\u001b[1;33m             \u001b[0mjson_dict_arr\u001b[0m \u001b[1;33m=\u001b[0m \u001b[0mjson_from_soup\u001b[0m\u001b[1;33m(\u001b[0m\u001b[0msoup\u001b[0m\u001b[1;33m)\u001b[0m\u001b[1;33m\u001b[0m\u001b[1;33m\u001b[0m\u001b[0m\n\u001b[0m\u001b[0;32m    261\u001b[0m             \u001b[1;32mif\u001b[0m \u001b[0mlen\u001b[0m\u001b[1;33m(\u001b[0m\u001b[0mjson_dict_arr\u001b[0m\u001b[1;33m)\u001b[0m \u001b[1;33m==\u001b[0m \u001b[1;36m1\u001b[0m\u001b[1;33m:\u001b[0m\u001b[1;33m\u001b[0m\u001b[1;33m\u001b[0m\u001b[0m\n\u001b[0;32m    262\u001b[0m                 \u001b[0mjson_dict\u001b[0m \u001b[1;33m=\u001b[0m \u001b[0mjson_dict_arr\u001b[0m\u001b[1;33m[\u001b[0m\u001b[1;36m0\u001b[0m\u001b[1;33m]\u001b[0m\u001b[1;33m\u001b[0m\u001b[1;33m\u001b[0m\u001b[0m\n",
      "\u001b[1;32m~\\AppData\\Local\\Programs\\Python\\Python39\\lib\\site-packages\\instascrape\\scrapers\\scrape_tools.py\u001b[0m in \u001b[0;36mjson_from_soup\u001b[1;34m(source, as_dict, flatten)\u001b[0m\n\u001b[0;32m     92\u001b[0m \u001b[1;33m\u001b[0m\u001b[0m\n\u001b[0;32m     93\u001b[0m     \u001b[1;32mif\u001b[0m \u001b[0mas_dict\u001b[0m\u001b[1;33m:\u001b[0m\u001b[1;33m\u001b[0m\u001b[1;33m\u001b[0m\u001b[0m\n\u001b[1;32m---> 94\u001b[1;33m         \u001b[0mjson_data\u001b[0m \u001b[1;33m=\u001b[0m \u001b[1;33m[\u001b[0m\u001b[0mjson\u001b[0m\u001b[1;33m.\u001b[0m\u001b[0mloads\u001b[0m\u001b[1;33m(\u001b[0m\u001b[0mjson_str\u001b[0m\u001b[1;33m)\u001b[0m \u001b[1;32mfor\u001b[0m \u001b[0mjson_str\u001b[0m \u001b[1;32min\u001b[0m \u001b[0mjson_data\u001b[0m\u001b[1;33m]\u001b[0m\u001b[1;33m\u001b[0m\u001b[1;33m\u001b[0m\u001b[0m\n\u001b[0m\u001b[0;32m     95\u001b[0m     \u001b[1;32mif\u001b[0m \u001b[0mflatten\u001b[0m\u001b[1;33m:\u001b[0m\u001b[1;33m\u001b[0m\u001b[1;33m\u001b[0m\u001b[0m\n\u001b[0;32m     96\u001b[0m         \u001b[0mjson_data\u001b[0m \u001b[1;33m=\u001b[0m \u001b[1;33m[\u001b[0m\u001b[0mflatten_dict\u001b[0m\u001b[1;33m(\u001b[0m\u001b[0mjson_dict\u001b[0m\u001b[1;33m)\u001b[0m \u001b[1;32mfor\u001b[0m \u001b[0mjson_dict\u001b[0m \u001b[1;32min\u001b[0m \u001b[0mjson_data\u001b[0m\u001b[1;33m]\u001b[0m\u001b[1;33m\u001b[0m\u001b[1;33m\u001b[0m\u001b[0m\n",
      "\u001b[1;32m~\\AppData\\Local\\Programs\\Python\\Python39\\lib\\site-packages\\instascrape\\scrapers\\scrape_tools.py\u001b[0m in \u001b[0;36m<listcomp>\u001b[1;34m(.0)\u001b[0m\n\u001b[0;32m     92\u001b[0m \u001b[1;33m\u001b[0m\u001b[0m\n\u001b[0;32m     93\u001b[0m     \u001b[1;32mif\u001b[0m \u001b[0mas_dict\u001b[0m\u001b[1;33m:\u001b[0m\u001b[1;33m\u001b[0m\u001b[1;33m\u001b[0m\u001b[0m\n\u001b[1;32m---> 94\u001b[1;33m         \u001b[0mjson_data\u001b[0m \u001b[1;33m=\u001b[0m \u001b[1;33m[\u001b[0m\u001b[0mjson\u001b[0m\u001b[1;33m.\u001b[0m\u001b[0mloads\u001b[0m\u001b[1;33m(\u001b[0m\u001b[0mjson_str\u001b[0m\u001b[1;33m)\u001b[0m \u001b[1;32mfor\u001b[0m \u001b[0mjson_str\u001b[0m \u001b[1;32min\u001b[0m \u001b[0mjson_data\u001b[0m\u001b[1;33m]\u001b[0m\u001b[1;33m\u001b[0m\u001b[1;33m\u001b[0m\u001b[0m\n\u001b[0m\u001b[0;32m     95\u001b[0m     \u001b[1;32mif\u001b[0m \u001b[0mflatten\u001b[0m\u001b[1;33m:\u001b[0m\u001b[1;33m\u001b[0m\u001b[1;33m\u001b[0m\u001b[0m\n\u001b[0;32m     96\u001b[0m         \u001b[0mjson_data\u001b[0m \u001b[1;33m=\u001b[0m \u001b[1;33m[\u001b[0m\u001b[0mflatten_dict\u001b[0m\u001b[1;33m(\u001b[0m\u001b[0mjson_dict\u001b[0m\u001b[1;33m)\u001b[0m \u001b[1;32mfor\u001b[0m \u001b[0mjson_dict\u001b[0m \u001b[1;32min\u001b[0m \u001b[0mjson_data\u001b[0m\u001b[1;33m]\u001b[0m\u001b[1;33m\u001b[0m\u001b[1;33m\u001b[0m\u001b[0m\n",
      "\u001b[1;32m~\\AppData\\Local\\Programs\\Python\\Python39\\lib\\json\\__init__.py\u001b[0m in \u001b[0;36mloads\u001b[1;34m(s, cls, object_hook, parse_float, parse_int, parse_constant, object_pairs_hook, **kw)\u001b[0m\n\u001b[0;32m    344\u001b[0m             \u001b[0mparse_int\u001b[0m \u001b[1;32mis\u001b[0m \u001b[1;32mNone\u001b[0m \u001b[1;32mand\u001b[0m \u001b[0mparse_float\u001b[0m \u001b[1;32mis\u001b[0m \u001b[1;32mNone\u001b[0m \u001b[1;32mand\u001b[0m\u001b[1;33m\u001b[0m\u001b[1;33m\u001b[0m\u001b[0m\n\u001b[0;32m    345\u001b[0m             parse_constant is None and object_pairs_hook is None and not kw):\n\u001b[1;32m--> 346\u001b[1;33m         \u001b[1;32mreturn\u001b[0m \u001b[0m_default_decoder\u001b[0m\u001b[1;33m.\u001b[0m\u001b[0mdecode\u001b[0m\u001b[1;33m(\u001b[0m\u001b[0ms\u001b[0m\u001b[1;33m)\u001b[0m\u001b[1;33m\u001b[0m\u001b[1;33m\u001b[0m\u001b[0m\n\u001b[0m\u001b[0;32m    347\u001b[0m     \u001b[1;32mif\u001b[0m \u001b[0mcls\u001b[0m \u001b[1;32mis\u001b[0m \u001b[1;32mNone\u001b[0m\u001b[1;33m:\u001b[0m\u001b[1;33m\u001b[0m\u001b[1;33m\u001b[0m\u001b[0m\n\u001b[0;32m    348\u001b[0m         \u001b[0mcls\u001b[0m \u001b[1;33m=\u001b[0m \u001b[0mJSONDecoder\u001b[0m\u001b[1;33m\u001b[0m\u001b[1;33m\u001b[0m\u001b[0m\n",
      "\u001b[1;32m~\\AppData\\Local\\Programs\\Python\\Python39\\lib\\json\\decoder.py\u001b[0m in \u001b[0;36mdecode\u001b[1;34m(self, s, _w)\u001b[0m\n\u001b[0;32m    335\u001b[0m \u001b[1;33m\u001b[0m\u001b[0m\n\u001b[0;32m    336\u001b[0m         \"\"\"\n\u001b[1;32m--> 337\u001b[1;33m         \u001b[0mobj\u001b[0m\u001b[1;33m,\u001b[0m \u001b[0mend\u001b[0m \u001b[1;33m=\u001b[0m \u001b[0mself\u001b[0m\u001b[1;33m.\u001b[0m\u001b[0mraw_decode\u001b[0m\u001b[1;33m(\u001b[0m\u001b[0ms\u001b[0m\u001b[1;33m,\u001b[0m \u001b[0midx\u001b[0m\u001b[1;33m=\u001b[0m\u001b[0m_w\u001b[0m\u001b[1;33m(\u001b[0m\u001b[0ms\u001b[0m\u001b[1;33m,\u001b[0m \u001b[1;36m0\u001b[0m\u001b[1;33m)\u001b[0m\u001b[1;33m.\u001b[0m\u001b[0mend\u001b[0m\u001b[1;33m(\u001b[0m\u001b[1;33m)\u001b[0m\u001b[1;33m)\u001b[0m\u001b[1;33m\u001b[0m\u001b[1;33m\u001b[0m\u001b[0m\n\u001b[0m\u001b[0;32m    338\u001b[0m         \u001b[0mend\u001b[0m \u001b[1;33m=\u001b[0m \u001b[0m_w\u001b[0m\u001b[1;33m(\u001b[0m\u001b[0ms\u001b[0m\u001b[1;33m,\u001b[0m \u001b[0mend\u001b[0m\u001b[1;33m)\u001b[0m\u001b[1;33m.\u001b[0m\u001b[0mend\u001b[0m\u001b[1;33m(\u001b[0m\u001b[1;33m)\u001b[0m\u001b[1;33m\u001b[0m\u001b[1;33m\u001b[0m\u001b[0m\n\u001b[0;32m    339\u001b[0m         \u001b[1;32mif\u001b[0m \u001b[0mend\u001b[0m \u001b[1;33m!=\u001b[0m \u001b[0mlen\u001b[0m\u001b[1;33m(\u001b[0m\u001b[0ms\u001b[0m\u001b[1;33m)\u001b[0m\u001b[1;33m:\u001b[0m\u001b[1;33m\u001b[0m\u001b[1;33m\u001b[0m\u001b[0m\n",
      "\u001b[1;32m~\\AppData\\Local\\Programs\\Python\\Python39\\lib\\json\\decoder.py\u001b[0m in \u001b[0;36mraw_decode\u001b[1;34m(self, s, idx)\u001b[0m\n\u001b[0;32m    351\u001b[0m         \"\"\"\n\u001b[0;32m    352\u001b[0m         \u001b[1;32mtry\u001b[0m\u001b[1;33m:\u001b[0m\u001b[1;33m\u001b[0m\u001b[1;33m\u001b[0m\u001b[0m\n\u001b[1;32m--> 353\u001b[1;33m             \u001b[0mobj\u001b[0m\u001b[1;33m,\u001b[0m \u001b[0mend\u001b[0m \u001b[1;33m=\u001b[0m \u001b[0mself\u001b[0m\u001b[1;33m.\u001b[0m\u001b[0mscan_once\u001b[0m\u001b[1;33m(\u001b[0m\u001b[0ms\u001b[0m\u001b[1;33m,\u001b[0m \u001b[0midx\u001b[0m\u001b[1;33m)\u001b[0m\u001b[1;33m\u001b[0m\u001b[1;33m\u001b[0m\u001b[0m\n\u001b[0m\u001b[0;32m    354\u001b[0m         \u001b[1;32mexcept\u001b[0m \u001b[0mStopIteration\u001b[0m \u001b[1;32mas\u001b[0m \u001b[0merr\u001b[0m\u001b[1;33m:\u001b[0m\u001b[1;33m\u001b[0m\u001b[1;33m\u001b[0m\u001b[0m\n\u001b[0;32m    355\u001b[0m             \u001b[1;32mraise\u001b[0m \u001b[0mJSONDecodeError\u001b[0m\u001b[1;33m(\u001b[0m\u001b[1;34m\"Expecting value\"\u001b[0m\u001b[1;33m,\u001b[0m \u001b[0ms\u001b[0m\u001b[1;33m,\u001b[0m \u001b[0merr\u001b[0m\u001b[1;33m.\u001b[0m\u001b[0mvalue\u001b[0m\u001b[1;33m)\u001b[0m \u001b[1;32mfrom\u001b[0m \u001b[1;32mNone\u001b[0m\u001b[1;33m\u001b[0m\u001b[1;33m\u001b[0m\u001b[0m\n",
      "\u001b[1;31mJSONDecodeError\u001b[0m: Expecting property name enclosed in double quotes: line 1 column 2 (char 1)"
     ]
    }
   ],
   "source": [
    "import instascrape\n",
    "from instascrape  import Reel\n",
    "\n",
    "SESSIONID = \"1830cf8405f-4e6f82\"\n",
    "# instascrape.__dir__()\n",
    "headers = {\n",
    "    \"User-Agent\": \"Mozilla/5.0 (Windows NT 10.0; Win64; x64)\\\n",
    "    AppleWebKit/537.36 (KHTML, like Gecko) Chrome/79.0.3945.74 \\\n",
    "    Safari/537.36 Edg/79.0.309.43\",\n",
    "    \"cookie\": f'sessionid={SESSIONID};'\n",
    "}\n",
    "insta_reel = Reel(\n",
    "    'https://www.instagram.com/reel/ChOPI9qg740/?utm_source=ig_web_copy_link')\n",
    "insta_reel\n",
    "\n",
    "insta_reel.scrape(headers=headers)\n"
   ]
  },
  {
   "cell_type": "code",
   "execution_count": null,
   "id": "10bb817c",
   "metadata": {},
   "outputs": [],
   "source": [
    "# JSON -> data formate and to store data in local NoSQL \n",
    "# SQLITE3 -> db local\n",
    "# mysql -> server db -> xamp\n"
   ]
  },
  {
   "cell_type": "code",
   "execution_count": 35,
   "id": "cf01e407",
   "metadata": {},
   "outputs": [],
   "source": [
    "data={\n",
    "    \"name\":\"asdhaskljd\",\n",
    "    \"age\":21\n",
    "}"
   ]
  },
  {
   "cell_type": "code",
   "execution_count": 3,
   "id": "ab07d3e9",
   "metadata": {},
   "outputs": [
    {
     "data": {
      "text/plain": [
       "dict"
      ]
     },
     "execution_count": 3,
     "metadata": {},
     "output_type": "execute_result"
    }
   ],
   "source": [
    "type(data)"
   ]
  },
  {
   "cell_type": "code",
   "execution_count": 20,
   "id": "70c3307b",
   "metadata": {},
   "outputs": [],
   "source": [
    "import json\n",
    "file=open('data.json','w')\n",
    "json.dump(data,file)\n",
    "file.close()"
   ]
  },
  {
   "cell_type": "code",
   "execution_count": 52,
   "id": "6ae56559",
   "metadata": {},
   "outputs": [
    {
     "name": "stdout",
     "output_type": "stream",
     "text": [
      "[{'name': 'Random', 'age': 99}, {'name': 'asdhaskljd', 'age': 21}]\n"
     ]
    }
   ],
   "source": [
    "file=open('data.json','r')\n",
    "oldData=json.loads(file.read())\n",
    "print(oldData)\n",
    "data={\n",
    "    \"name\":\"dahjhdgahj\",\n",
    "    \"age\":88\n",
    "}\n",
    "# main=[]\n",
    "# main.append(oldData)\n",
    "oldData.append(data)\n",
    "# print(main)\n",
    "file.close()\n",
    "file=open('data.json','w')\n",
    "json.dump(oldData,file)\n",
    "file.close()\n"
   ]
  },
  {
   "cell_type": "code",
   "execution_count": 57,
   "id": "ddb3ffa1",
   "metadata": {},
   "outputs": [
    {
     "name": "stdout",
     "output_type": "stream",
     "text": [
      "21\n"
     ]
    }
   ],
   "source": [
    "file=open('data.json','r')\n",
    "oldData=json.loads(file.read())\n",
    "print(oldData[1]['age'])"
   ]
  },
  {
   "cell_type": "code",
   "execution_count": 80,
   "id": "cc8a8378",
   "metadata": {},
   "outputs": [
    {
     "name": "stdout",
     "output_type": "stream",
     "text": [
      "UPDATED NAME\n",
      "oldName\n",
      "Myname\n"
     ]
    }
   ],
   "source": [
    "# sqlite3\n",
    "import sqlite3\n",
    "conn=sqlite3.connect('newdata.db')\n",
    "query='CREATE TABLE IF NOT EXISTS t1(name VARCHAR(200))'\n",
    "conn.execute(query)\n",
    "conn.commit()\n",
    "\n",
    "\n",
    "# conn.execute(''' insert into t1 values('Myname')''')\n",
    "# conn.commit()\n",
    "\n",
    "conn.execute('''UPDATE t1 set name='UPDATED NAME' WHERE name='New Name' ''')\n",
    "conn.commit()\n",
    "data =conn.execute('''SELECT * FROM t1''')\n",
    "for i in data:\n",
    "    print(i[0])\n",
    "\n",
    "# conn.execute('''delete from t1''')\n",
    "# conn.commit()\n",
    "conn.close()\n"
   ]
  },
  {
   "cell_type": "code",
   "execution_count": null,
   "id": "4c6afa6c",
   "metadata": {},
   "outputs": [],
   "source": []
  },
  {
   "cell_type": "code",
   "execution_count": null,
   "id": "e8bca661",
   "metadata": {},
   "outputs": [],
   "source": []
  },
  {
   "cell_type": "code",
   "execution_count": null,
   "id": "f97da3f7",
   "metadata": {},
   "outputs": [],
   "source": []
  }
 ],
 "metadata": {
  "kernelspec": {
   "display_name": "Python 3 (ipykernel)",
   "language": "python",
   "name": "python3"
  },
  "language_info": {
   "codemirror_mode": {
    "name": "ipython",
    "version": 3
   },
   "file_extension": ".py",
   "mimetype": "text/x-python",
   "name": "python",
   "nbconvert_exporter": "python",
   "pygments_lexer": "ipython3",
   "version": "3.9.7"
  }
 },
 "nbformat": 4,
 "nbformat_minor": 5
}
