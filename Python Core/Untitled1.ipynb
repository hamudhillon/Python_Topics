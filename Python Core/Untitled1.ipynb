{
 "cells": [
  {
   "cell_type": "code",
   "execution_count": 3,
   "id": "e2ba27d8",
   "metadata": {},
   "outputs": [
    {
     "name": "stdout",
     "output_type": "stream",
     "text": [
      "enter country ->north korea\n",
      "enter Age ->17\n",
      "enter gender ->male\n",
      "not eligible for the vote\n"
     ]
    }
   ],
   "source": [
    "country=input('enter country ->')\n",
    "age=int(input('enter Age ->'))\n",
    "gender=input('enter gender ->')\n",
    "if country=='india':\n",
    "    if age>=18:\n",
    "        print('eligible for the vote')\n",
    "    else:\n",
    "        print('not eligible for the vote')\n",
    "elif country=='south africa':\n",
    "    if age>=18 and gender=='male':\n",
    "        print('eligible for the vote')\n",
    "    elif age>=21 and gender=='female':\n",
    "        print('eligible for the vote')\n",
    "    else:\n",
    "        print('not eligible for the vote')\n",
    "elif country=='north korea':\n",
    "    if age>=18 and gender=='male':\n",
    "        print('eligible for the vote')\n",
    "    else:\n",
    "        print('not eligible for the vote')\n"
   ]
  }
 ],
 "metadata": {
  "kernelspec": {
   "display_name": "Python 3 (ipykernel)",
   "language": "python",
   "name": "python3"
  },
  "language_info": {
   "codemirror_mode": {
    "name": "ipython",
    "version": 3
   },
   "file_extension": ".py",
   "mimetype": "text/x-python",
   "name": "python",
   "nbconvert_exporter": "python",
   "pygments_lexer": "ipython3",
   "version": "3.9.7"
  }
 },
 "nbformat": 4,
 "nbformat_minor": 5
}
