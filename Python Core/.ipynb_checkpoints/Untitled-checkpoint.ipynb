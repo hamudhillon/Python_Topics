{
 "cells": [
  {
   "cell_type": "code",
   "execution_count": 42,
   "id": "91cabb4f",
   "metadata": {},
   "outputs": [
    {
     "data": {
      "text/plain": [
       "'H'"
      ]
     },
     "execution_count": 42,
     "metadata": {},
     "output_type": "execute_result"
    }
   ],
   "source": [
    "a='Hello world'\n",
    "a[0]"
   ]
  },
  {
   "cell_type": "code",
   "execution_count": 28,
   "id": "54f36186",
   "metadata": {},
   "outputs": [
    {
     "data": {
      "text/plain": [
       "'olleH'"
      ]
     },
     "execution_count": 28,
     "metadata": {},
     "output_type": "execute_result"
    }
   ],
   "source": [
    "a[::-1]"
   ]
  },
  {
   "cell_type": "code",
   "execution_count": 58,
   "id": "8056ae57",
   "metadata": {},
   "outputs": [
    {
     "data": {
      "text/plain": [
       "False"
      ]
     },
     "execution_count": 58,
     "metadata": {},
     "output_type": "execute_result"
    }
   ],
   "source": [
    "# Function\n",
    "a.upper()\n",
    "a.lower()\n",
    "a.title()\n",
    "a.capitalize()\n",
    "a.replace('H','T')\n",
    "a.replace('O','d')\n",
    "a.split('l')\n",
    "a.find('p')\n",
    "a.count('Hello')\n",
    "a.isupper()\n",
    "a.islower()"
   ]
  },
  {
   "cell_type": "code",
   "execution_count": 112,
   "id": "f5071d95",
   "metadata": {},
   "outputs": [
    {
     "data": {
      "text/plain": [
       "[77, 2, 1, 3, 2, 3]"
      ]
     },
     "execution_count": 112,
     "metadata": {},
     "output_type": "execute_result"
    }
   ],
   "source": [
    "# LIST, Tuple, set, Dict \n",
    "data=[3,2,3,1,2,77]\n",
    "data[::-1]"
   ]
  },
  {
   "cell_type": "code",
   "execution_count": 114,
   "id": "bb66d28c",
   "metadata": {},
   "outputs": [
    {
     "data": {
      "text/plain": [
       "[99, 3, 3, 2, 2, 1]"
      ]
     },
     "execution_count": 114,
     "metadata": {},
     "output_type": "execute_result"
    }
   ],
   "source": [
    "# Function\n",
    "# data.append('a')\n",
    "# print(data.remove(3))\n",
    "# data.insert(2,'b')\n",
    "# print(data.pop(5))\n",
    "data.sort()\n",
    "data.reverse()\n",
    "data[0]=99\n",
    "# data.clear()\n",
    "data"
   ]
  },
  {
   "cell_type": "code",
   "execution_count": 126,
   "id": "198df415",
   "metadata": {},
   "outputs": [
    {
     "data": {
      "text/plain": [
       "(99, 5, 7, 8, 3, 3)"
      ]
     },
     "execution_count": 126,
     "metadata": {},
     "output_type": "execute_result"
    }
   ],
   "source": [
    "# Tuple \n",
    "data=(1,5,7,8,3,3)\n",
    "# data[0]=99\n",
    "# data.append(6)\n",
    "len(data)\n",
    "data=list(data)\n",
    "data[0]=99\n",
    "data=tuple(data)\n",
    "data"
   ]
  },
  {
   "cell_type": "code",
   "execution_count": 181,
   "id": "56e6991a",
   "metadata": {},
   "outputs": [
    {
     "data": {
      "text/plain": [
       "1"
      ]
     },
     "execution_count": 181,
     "metadata": {},
     "output_type": "execute_result"
    }
   ],
   "source": [
    "# set\n",
    "data={1,99,6,4,53,2,'a'}\n",
    "# data[0]=88\n",
    "# data.add(77)\n",
    "data.update({'HHHH','aklsdjklas','sad'})\n",
    "# data.remove(99)\n",
    "# data.discard(2)\n",
    "data.pop()\n",
    "# data"
   ]
  },
  {
   "cell_type": "code",
   "execution_count": 223,
   "id": "935df8e6",
   "metadata": {},
   "outputs": [
    {
     "data": {
      "text/plain": [
       "{}"
      ]
     },
     "execution_count": 223,
     "metadata": {},
     "output_type": "execute_result"
    }
   ],
   "source": [
    "# Dict\n",
    "data={\n",
    "    200:'dsaknd',\n",
    "    'name':'Harman',\n",
    "    \"age\":99,\n",
    "    'Phone':456789\n",
    "}\n",
    "# data['age']=66\n",
    "# data.update({'address':'mohali'})\n",
    "# print(data.pop('age'))\n",
    "# print(data.popitem())\n",
    "data.keys()\n",
    "data.values()\n",
    "data.items()\n",
    "data.get('name')\n",
    "data.clear()\n",
    "data"
   ]
  },
  {
   "cell_type": "code",
   "execution_count": 21,
   "id": "366bf767",
   "metadata": {
    "scrolled": true
   },
   "outputs": [
    {
     "name": "stdout",
     "output_type": "stream",
     "text": [
      "Enter a Number 8\n",
      "a is not zero\n",
      "a is not zero\n"
     ]
    }
   ],
   "source": [
    "# Conditions\n",
    "# Flow Control\n",
    "a=int(input('Enter a Number '))\n",
    "county=input('Enter a Country')\n",
    "# if(a==0){ #scope\n",
    "#     printf('a is zero')\n",
    "# }\n",
    "\n",
    "if a==0:\n",
    "    if a==1:\n",
    "        print('a is nor zero')\n",
    "    print('a is zero')\n",
    "elif a==1:\n",
    "    print('a is one')\n",
    "elif(a>10 and a<20):\n",
    "                   print('a is between 10-20')\n",
    "else:\n",
    "     print('a is not zero')\n",
    "     print('a is not zero')\n"
   ]
  },
  {
   "cell_type": "code",
   "execution_count": 3,
   "id": "939dd8a2",
   "metadata": {},
   "outputs": [],
   "source": [
    "# q1 odd or even\n",
    "# q2 check vowels in string take a string \n",
    "#\n",
    "# Nested condition\n",
    "# q3 take 3 values Country,Age,gender and give output as eligible for vote or not\n",
    "#  conditions1 -> country india for male age 18+ for female age 18+\n",
    "#  conditions2 -> country south africa male age 18+ for female age 21+\n",
    "#  condition3 -> country North korea male age 18+ and female are not allowed"
   ]
  },
  {
   "cell_type": "code",
   "execution_count": 11,
   "id": "69251a03",
   "metadata": {},
   "outputs": [
    {
     "name": "stdout",
     "output_type": "stream",
     "text": [
      "0\n",
      "1\n",
      "2\n",
      "3\n",
      "4\n",
      "5\n",
      "6\n",
      "7\n",
      "8\n",
      "9\n"
     ]
    }
   ],
   "source": [
    "# Loops \n",
    "# for loop \n",
    "# data=[1,3,4]\n",
    "# for(int i;i<=sizeOf(data);i++){\n",
    "#     data[i]\n",
    "# }\n",
    "data=(1,3,5,8,9)\n",
    "for i in range(len(data)):\n",
    "    print(i)"
   ]
  }
 ],
 "metadata": {
  "kernelspec": {
   "display_name": "Python 3 (ipykernel)",
   "language": "python",
   "name": "python3"
  },
  "language_info": {
   "codemirror_mode": {
    "name": "ipython",
    "version": 3
   },
   "file_extension": ".py",
   "mimetype": "text/x-python",
   "name": "python",
   "nbconvert_exporter": "python",
   "pygments_lexer": "ipython3",
   "version": "3.9.7"
  }
 },
 "nbformat": 4,
 "nbformat_minor": 5
}
